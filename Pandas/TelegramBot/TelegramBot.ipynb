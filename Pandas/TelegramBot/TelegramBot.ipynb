{
 "cells": [
  {
   "cell_type": "markdown",
   "metadata": {},
   "source": [
    "# Sending Data to Telegram"
   ]
  },
  {
   "cell_type": "code",
   "execution_count": 1,
   "metadata": {},
   "outputs": [],
   "source": [
    "import requests\n",
    "import pandas as pd\n",
    "import os"
   ]
  },
  {
   "cell_type": "code",
   "execution_count": 2,
   "metadata": {},
   "outputs": [],
   "source": [
    "def telegram_bot_sendtext(bot_message,bot_chatID):\n",
    "    bot_token = '1811972683:AAH8RHie2JXsHsiJMhShhkQaHEr0C-gEvsA'\n",
    "    send_text = 'https://api.telegram.org/bot' + bot_token + '/sendMessage?chat_id=' + bot_chatID + '&parse_mode=Markdown&text=' + bot_message\n",
    "    response = requests.get(send_text)\n",
    "    \n",
    "    return response.json()"
   ]
  },
  {
   "cell_type": "markdown",
   "metadata": {},
   "source": [
    "test = telegram_bot_sendtext(\"Testing Telegram bot\")\n",
    "print(test)"
   ]
  },
  {
   "cell_type": "markdown",
   "metadata": {},
   "source": [
    "df = pd.read_excel (r'D:\\COURSE Modules\\My Courses\\Python Concepts\\Pandas\\TelegramBot\\ekyc_data.xlsx')\n",
    "print(df)"
   ]
  },
  {
   "cell_type": "code",
   "execution_count": 3,
   "metadata": {},
   "outputs": [
    {
     "data": {
      "text/html": [
       "<div>\n",
       "<style scoped>\n",
       "    .dataframe tbody tr th:only-of-type {\n",
       "        vertical-align: middle;\n",
       "    }\n",
       "\n",
       "    .dataframe tbody tr th {\n",
       "        vertical-align: top;\n",
       "    }\n",
       "\n",
       "    .dataframe thead th {\n",
       "        text-align: right;\n",
       "    }\n",
       "</style>\n",
       "<table border=\"1\" class=\"dataframe\">\n",
       "  <thead>\n",
       "    <tr style=\"text-align: right;\">\n",
       "      <th></th>\n",
       "      <th>Description</th>\n",
       "      <th>Count</th>\n",
       "    </tr>\n",
       "  </thead>\n",
       "  <tbody>\n",
       "    <tr>\n",
       "      <th>0</th>\n",
       "      <td>Agent Login</td>\n",
       "      <td>110</td>\n",
       "    </tr>\n",
       "    <tr>\n",
       "      <th>1</th>\n",
       "      <td>Agent Registration</td>\n",
       "      <td>23</td>\n",
       "    </tr>\n",
       "    <tr>\n",
       "      <th>2</th>\n",
       "      <td>Ekyc Success</td>\n",
       "      <td>35</td>\n",
       "    </tr>\n",
       "    <tr>\n",
       "      <th>3</th>\n",
       "      <td>Otp Generation</td>\n",
       "      <td>123</td>\n",
       "    </tr>\n",
       "  </tbody>\n",
       "</table>\n",
       "</div>"
      ],
      "text/plain": [
       "          Description  Count\n",
       "0         Agent Login    110\n",
       "1  Agent Registration     23\n",
       "2        Ekyc Success     35\n",
       "3      Otp Generation    123"
      ]
     },
     "execution_count": 3,
     "metadata": {},
     "output_type": "execute_result"
    }
   ],
   "source": [
    "# have to install openpyxl\n",
    "df1 = pd.read_excel( r'D:\\COURSE Modules\\My Courses\\Python Concepts\\Pandas\\TelegramBot\\ekyc_data.xlsx', engine='openpyxl')\n",
    "df1.head()"
   ]
  },
  {
   "cell_type": "code",
   "execution_count": 4,
   "metadata": {},
   "outputs": [
    {
     "name": "stdout",
     "output_type": "stream",
     "text": [
      "[['Agent Login', 110], ['Agent Registration', 23], ['Ekyc Success', 35], ['Otp Generation', 123]]\n"
     ]
    }
   ],
   "source": [
    "myList = df1.values.tolist()\n",
    "print(myList)"
   ]
  },
  {
   "cell_type": "markdown",
   "metadata": {},
   "source": [
    "myList[1][1]"
   ]
  },
  {
   "cell_type": "markdown",
   "metadata": {},
   "source": [
    "len(myList)"
   ]
  },
  {
   "cell_type": "code",
   "execution_count": 7,
   "metadata": {},
   "outputs": [],
   "source": [
    "message = ''"
   ]
  },
  {
   "cell_type": "code",
   "execution_count": 8,
   "metadata": {},
   "outputs": [],
   "source": [
    "for item in range(len(myList)):\n",
    "    for j in range(len(myList[item])):\n",
    "        message += str(myList[item][j]) + \" \"\n",
    "    message += '\\n'"
   ]
  },
  {
   "cell_type": "code",
   "execution_count": 10,
   "metadata": {},
   "outputs": [
    {
     "name": "stdout",
     "output_type": "stream",
     "text": [
      "{'ok': True, 'result': {'message_id': 17, 'from': {'id': 1811972683, 'is_bot': True, 'first_name': 'misData', 'username': 'misDataBot'}, 'chat': {'id': 960919064, 'first_name': 'Swarnadeep', 'username': 'its_swarna', 'type': 'private'}, 'date': 1624387290, 'text': 'Agent Login 110 \\nAgent Registration 23 \\nEkyc Success 35 \\nOtp Generation 123'}}\n"
     ]
    }
   ],
   "source": [
    "test = telegram_bot_sendtext(message, '960919064' )\n",
    "print(test)"
   ]
  },
  {
   "cell_type": "code",
   "execution_count": 11,
   "metadata": {},
   "outputs": [
    {
     "name": "stdout",
     "output_type": "stream",
     "text": [
      "{'ok': True, 'result': {'message_id': 18, 'from': {'id': 1811972683, 'is_bot': True, 'first_name': 'misData', 'username': 'misDataBot'}, 'chat': {'id': 643069057, 'first_name': 'Sayantan', 'last_name': 'Jana', 'username': 'ReefsEdge', 'type': 'private'}, 'date': 1624387291, 'text': 'Agent Login 110 \\nAgent Registration 23 \\nEkyc Success 35 \\nOtp Generation 123'}}\n"
     ]
    }
   ],
   "source": [
    "test = telegram_bot_sendtext(message, '643069057' )\n",
    "print(test)"
   ]
  },
  {
   "cell_type": "code",
   "execution_count": 12,
   "metadata": {},
   "outputs": [
    {
     "name": "stdout",
     "output_type": "stream",
     "text": [
      "{'ok': True, 'result': {'message_id': 19, 'from': {'id': 1811972683, 'is_bot': True, 'first_name': 'misData', 'username': 'misDataBot'}, 'chat': {'id': 1038370384, 'first_name': 'Suvradeep', 'last_name': 'Ghosh', 'username': 'Suvradeep007', 'type': 'private'}, 'date': 1624387292, 'text': 'Agent Login 110 \\nAgent Registration 23 \\nEkyc Success 35 \\nOtp Generation 123'}}\n"
     ]
    }
   ],
   "source": [
    "test = telegram_bot_sendtext(message, '1038370384' )\n",
    "print(test)"
   ]
  }
 ],
 "metadata": {
  "kernelspec": {
   "display_name": "Python 3.8.2 32-bit",
   "language": "python",
   "name": "python38232bit049a6d7dde384a778b30b49190d03dca"
  },
  "language_info": {
   "codemirror_mode": {
    "name": "ipython",
    "version": 3
   },
   "file_extension": ".py",
   "mimetype": "text/x-python",
   "name": "python",
   "nbconvert_exporter": "python",
   "pygments_lexer": "ipython3",
   "version": "3.8.2"
  }
 },
 "nbformat": 4,
 "nbformat_minor": 4
}
